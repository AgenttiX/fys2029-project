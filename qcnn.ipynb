{
 "cells": [
  {
   "cell_type": "markdown",
   "source": [
    "Loading of libraries and initialization"
   ],
   "metadata": {
    "collapsed": false
   }
  },
  {
   "cell_type": "code",
   "execution_count": 2,
   "outputs": [],
   "source": [
    "import random\n",
    "\n",
    "import cirq\n",
    "from cirq.contrib.svg import SVGCircuit\n",
    "import matplotlib.pyplot as plt\n",
    "import numpy as np\n",
    "import sympy\n",
    "import tensorflow as tf\n",
    "import tensorflow_quantum as tfq\n",
    "\n",
    "if not tf.config.list_physical_devices('GPU'):\n",
    "    print(\"Warning: GPU was not found, so simulations can be very slow\")"
   ],
   "metadata": {
    "collapsed": false,
    "pycharm": {
     "name": "#%%\n"
    }
   }
  },
  {
   "cell_type": "code",
   "execution_count": 4,
   "metadata": {
    "collapsed": true
   },
   "outputs": [
    {
     "name": "stdout",
     "output_type": "stream",
     "text": [
      "[cirq.Circuit([\n",
      "    cirq.Moment(\n",
      "        cirq.X(cirq.GridQubit(0, 0)),\n",
      "    ),\n",
      "])\n",
      " cirq.Circuit([\n",
      "    cirq.Moment(\n",
      "        cirq.H(cirq.GridQubit(0, 0)),\n",
      "    ),\n",
      "])]\n",
      "[cirq.Circuit([\n",
      "    cirq.Moment(\n",
      "        cirq.X(cirq.GridQubit(0, 0)),\n",
      "    ),\n",
      "    cirq.Moment(\n",
      "        cirq.Y(cirq.GridQubit(0, 0)),\n",
      "    ),\n",
      "])\n",
      " cirq.Circuit([\n",
      "    cirq.Moment(\n",
      "        cirq.H(cirq.GridQubit(0, 0)),\n",
      "    ),\n",
      "    cirq.Moment(\n",
      "        cirq.Y(cirq.GridQubit(0, 0)),\n",
      "    ),\n",
      "])]\n"
     ]
    }
   ],
   "source": [
    "qubit = cirq.GridQubit(0, 0)\n",
    "\n",
    "# Define some circuits.\n",
    "circuit1 = cirq.Circuit(cirq.X(qubit))\n",
    "circuit2 = cirq.Circuit(cirq.H(qubit))\n",
    "\n",
    "# Convert to a tensor.\n",
    "input_circuit_tensor = tfq.convert_to_tensor([circuit1, circuit2])\n",
    "\n",
    "# Define a circuit that we want to append\n",
    "y_circuit = cirq.Circuit(cirq.Y(qubit))\n",
    "\n",
    "# Instantiate our layer\n",
    "y_appender = tfq.layers.AddCircuit()\n",
    "\n",
    "# Run our circuit tensor through the layer and save the output.\n",
    "output_circuit_tensor = y_appender(input_circuit_tensor, append=y_circuit)\n",
    "\n",
    "print(tfq.from_tensor(input_circuit_tensor))\n",
    "print(tfq.from_tensor(output_circuit_tensor))"
   ]
  }
 ],
 "metadata": {
  "kernelspec": {
   "display_name": "Python 3",
   "language": "python",
   "name": "python3"
  },
  "language_info": {
   "codemirror_mode": {
    "name": "ipython",
    "version": 2
   },
   "file_extension": ".py",
   "mimetype": "text/x-python",
   "name": "python",
   "nbconvert_exporter": "python",
   "pygments_lexer": "ipython2",
   "version": "2.7.6"
  }
 },
 "nbformat": 4,
 "nbformat_minor": 0
}