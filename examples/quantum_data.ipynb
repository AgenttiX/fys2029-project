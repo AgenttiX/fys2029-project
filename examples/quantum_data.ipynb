{
 "cells": [
  {
   "cell_type": "code",
   "execution_count": 9,
   "metadata": {
    "collapsed": true
   },
   "outputs": [],
   "source": [
    "import cirq\n",
    "import sympy\n",
    "import numpy as np\n",
    "import tensorflow as tf\n",
    "import tensorflow_quantum as tfq\n",
    "\n",
    "# visualization tools\n",
    "%matplotlib inline\n",
    "import matplotlib.pyplot as plt\n",
    "from cirq.contrib.svg import SVGCircuit\n",
    "np.random.seed(1234)"
   ]
  },
  {
   "cell_type": "code",
   "execution_count": 10,
   "outputs": [
    {
     "name": "stdout",
     "output_type": "stream",
     "text": [
      "Number of original training examples: 60000\n",
      "Number of original test examples: 10000\n"
     ]
    }
   ],
   "source": [
    "(x_train, y_train), (x_test, y_test) = tf.keras.datasets.fashion_mnist.load_data()\n",
    "\n",
    "# Rescale the images from [0,255] to the [0.0,1.0] range.\n",
    "x_train, x_test = x_train/255.0, x_test/255.0\n",
    "\n",
    "print(\"Number of original training examples:\", len(x_train))\n",
    "print(\"Number of original test examples:\", len(x_test))"
   ],
   "metadata": {
    "collapsed": false,
    "pycharm": {
     "name": "#%%\n"
    }
   }
  },
  {
   "cell_type": "code",
   "execution_count": 11,
   "outputs": [
    {
     "name": "stdout",
     "output_type": "stream",
     "text": [
      "Number of filtered training examples: 12000\n",
      "Number of filtered test examples: 2000\n",
      "True\n"
     ]
    },
    {
     "data": {
      "text/plain": "<matplotlib.colorbar.Colorbar at 0x7fb6241724f0>"
     },
     "execution_count": 11,
     "metadata": {},
     "output_type": "execute_result"
    },
    {
     "data": {
      "text/plain": "<Figure size 432x288 with 2 Axes>",
      "image/png": "[encoded data removed]"
     },
     "metadata": {
      "needs_background": "light"
     },
     "output_type": "display_data"
    }
   ],
   "source": [
    "def filter_03(x, y):\n",
    "    keep = (y == 0) | (y == 3)\n",
    "    x, y = x[keep], y[keep]\n",
    "    y = y == 0\n",
    "    return x,y\n",
    "\n",
    "x_train, y_train = filter_03(x_train, y_train)\n",
    "x_test, y_test = filter_03(x_test, y_test)\n",
    "\n",
    "print(\"Number of filtered training examples:\", len(x_train))\n",
    "print(\"Number of filtered test examples:\", len(x_test))\n",
    "\n",
    "print(y_train[0])\n",
    "\n",
    "plt.imshow(x_train[0, :, :])\n",
    "plt.colorbar()"
   ],
   "metadata": {
    "collapsed": false,
    "pycharm": {
     "name": "#%%\n"
    }
   }
  },
  {
   "cell_type": "code",
   "execution_count": 12,
   "outputs": [
    {
     "name": "stdout",
     "output_type": "stream",
     "text": [
      "New datapoint dimension: 10\n",
      "New number of training examples: 1000\n",
      "New number of test examples: 200\n"
     ]
    }
   ],
   "source": [
    "# Downscaling\n",
    "\n",
    "def truncate_x(x_train, x_test, n_components=10):\n",
    "  \"\"\"Perform PCA on image dataset keeping the top `n_components` components.\"\"\"\n",
    "  n_points_train = tf.gather(tf.shape(x_train), 0)\n",
    "  n_points_test = tf.gather(tf.shape(x_test), 0)\n",
    "\n",
    "  # Flatten to 1D\n",
    "  x_train = tf.reshape(x_train, [n_points_train, -1])\n",
    "  x_test = tf.reshape(x_test, [n_points_test, -1])\n",
    "\n",
    "  # Normalize.\n",
    "  feature_mean = tf.reduce_mean(x_train, axis=0)\n",
    "  x_train_normalized = x_train - feature_mean\n",
    "  x_test_normalized = x_test - feature_mean\n",
    "\n",
    "  # Truncate.\n",
    "  e_values, e_vectors = tf.linalg.eigh(\n",
    "      tf.einsum('ji,jk->ik', x_train_normalized, x_train_normalized))\n",
    "  return tf.einsum('ij,jk->ik', x_train_normalized, e_vectors[:,-n_components:]), \\\n",
    "    tf.einsum('ij,jk->ik', x_test_normalized, e_vectors[:, -n_components:])\n",
    "\n",
    "DATASET_DIM = 10\n",
    "x_train, x_test = truncate_x(x_train, x_test, n_components=DATASET_DIM)\n",
    "print(f'New datapoint dimension:', len(x_train[0]))\n",
    "\n",
    "N_TRAIN = 1000\n",
    "N_TEST = 200\n",
    "x_train, x_test = x_train[:N_TRAIN], x_test[:N_TEST]\n",
    "y_train, y_test = y_train[:N_TRAIN], y_test[:N_TEST]\n",
    "\n",
    "print(\"New number of training examples:\", len(x_train))\n",
    "print(\"New number of test examples:\", len(x_test))"
   ],
   "metadata": {
    "collapsed": false,
    "pycharm": {
     "name": "#%%\n"
    }
   }
  },
  {
   "cell_type": "code",
   "execution_count": 13,
   "outputs": [
    {
     "data": {
      "text/plain": "<cirq.contrib.svg.svg.SVGCircuit at 0x7fb6240bff70>",
      "image/svg+xml": "<svg xmlns=\"http://www.w3.org/2000/svg\" width=\"355.99917968750003\" height=\"200.0\"><line x1=\"32.246796875\" x2=\"325.99917968750003\" y1=\"25.0\" y2=\"25.0\" stroke=\"#1967d2\" stroke-width=\"1\" /><line x1=\"32.246796875\" x2=\"325.99917968750003\" y1=\"75.0\" y2=\"75.0\" stroke=\"#1967d2\" stroke-width=\"1\" /><line x1=\"32.246796875\" x2=\"325.99917968750003\" y1=\"125.0\" y2=\"125.0\" stroke=\"#1967d2\" stroke-width=\"1\" /><line x1=\"32.246796875\" x2=\"325.99917968750003\" y1=\"175.0\" y2=\"175.0\" stroke=\"#1967d2\" stroke-width=\"1\" /><rect x=\"10.0\" y=\"5.0\" width=\"44.49359375\" height=\"40\" stroke=\"black\" fill=\"white\" stroke-width=\"0\" /><text x=\"32.246796875\" y=\"25.0\" dominant-baseline=\"middle\" text-anchor=\"middle\" font-size=\"14px\" font-family=\"Arial\">(0, 0): </text><rect x=\"10.0\" y=\"55.0\" width=\"44.49359375\" height=\"40\" stroke=\"black\" fill=\"white\" stroke-width=\"0\" /><text x=\"32.246796875\" y=\"75.0\" dominant-baseline=\"middle\" text-anchor=\"middle\" font-size=\"14px\" font-family=\"Arial\">(0, 1): </text><rect x=\"10.0\" y=\"105.0\" width=\"44.49359375\" height=\"40\" stroke=\"black\" fill=\"white\" stroke-width=\"0\" /><text x=\"32.246796875\" y=\"125.0\" dominant-baseline=\"middle\" text-anchor=\"middle\" font-size=\"14px\" font-family=\"Arial\">(0, 2): </text><rect x=\"10.0\" y=\"155.0\" width=\"44.49359375\" height=\"40\" stroke=\"black\" fill=\"white\" stroke-width=\"0\" /><text x=\"32.246796875\" y=\"175.0\" dominant-baseline=\"middle\" text-anchor=\"middle\" font-size=\"14px\" font-family=\"Arial\">(0, 3): </text><rect x=\"74.49359375\" y=\"5.0\" width=\"68.666015625\" height=\"40\" stroke=\"black\" fill=\"white\" stroke-width=\"1\" /><text x=\"108.8266015625\" y=\"25.0\" dominant-baseline=\"middle\" text-anchor=\"middle\" font-size=\"14px\" font-family=\"Arial\">X^0.192</text><rect x=\"74.49359375\" y=\"55.0\" width=\"68.666015625\" height=\"40\" stroke=\"black\" fill=\"white\" stroke-width=\"1\" /><text x=\"108.8266015625\" y=\"75.0\" dominant-baseline=\"middle\" text-anchor=\"middle\" font-size=\"14px\" font-family=\"Arial\">X^(11/14)</text><rect x=\"74.49359375\" y=\"105.0\" width=\"68.666015625\" height=\"40\" stroke=\"black\" fill=\"white\" stroke-width=\"1\" /><text x=\"108.8266015625\" y=\"125.0\" dominant-baseline=\"middle\" text-anchor=\"middle\" font-size=\"14px\" font-family=\"Arial\">X^0.276</text><rect x=\"74.49359375\" y=\"155.0\" width=\"68.666015625\" height=\"40\" stroke=\"black\" fill=\"white\" stroke-width=\"1\" /><text x=\"108.8266015625\" y=\"175.0\" dominant-baseline=\"middle\" text-anchor=\"middle\" font-size=\"14px\" font-family=\"Arial\">X^0.876</text><rect x=\"163.159609375\" y=\"5.0\" width=\"61.9320703125\" height=\"40\" stroke=\"black\" fill=\"white\" stroke-width=\"1\" /><text x=\"194.12564453125\" y=\"25.0\" dominant-baseline=\"middle\" text-anchor=\"middle\" font-size=\"14px\" font-family=\"Arial\">Y^0.622</text><rect x=\"163.159609375\" y=\"55.0\" width=\"61.9320703125\" height=\"40\" stroke=\"black\" fill=\"white\" stroke-width=\"1\" /><text x=\"194.12564453125\" y=\"75.0\" dominant-baseline=\"middle\" text-anchor=\"middle\" font-size=\"14px\" font-family=\"Arial\">Y^0.78</text><rect x=\"163.159609375\" y=\"105.0\" width=\"61.9320703125\" height=\"40\" stroke=\"black\" fill=\"white\" stroke-width=\"1\" /><text x=\"194.12564453125\" y=\"125.0\" dominant-baseline=\"middle\" text-anchor=\"middle\" font-size=\"14px\" font-family=\"Arial\">Y^0.802</text><rect x=\"163.159609375\" y=\"155.0\" width=\"61.9320703125\" height=\"40\" stroke=\"black\" fill=\"white\" stroke-width=\"1\" /><text x=\"194.12564453125\" y=\"175.0\" dominant-baseline=\"middle\" text-anchor=\"middle\" font-size=\"14px\" font-family=\"Arial\">Y^(5/14)</text><rect x=\"245.0916796875\" y=\"5.0\" width=\"60.9075\" height=\"40\" stroke=\"black\" fill=\"white\" stroke-width=\"1\" /><text x=\"275.5454296875\" y=\"25.0\" dominant-baseline=\"middle\" text-anchor=\"middle\" font-size=\"14px\" font-family=\"Arial\">Z^(7/16)</text><rect x=\"245.0916796875\" y=\"55.0\" width=\"60.9075\" height=\"40\" stroke=\"black\" fill=\"white\" stroke-width=\"1\" /><text x=\"275.5454296875\" y=\"75.0\" dominant-baseline=\"middle\" text-anchor=\"middle\" font-size=\"14px\" font-family=\"Arial\">Z^(3/11)</text><rect x=\"245.0916796875\" y=\"105.0\" width=\"60.9075\" height=\"40\" stroke=\"black\" fill=\"white\" stroke-width=\"1\" /><text x=\"275.5454296875\" y=\"125.0\" dominant-baseline=\"middle\" text-anchor=\"middle\" font-size=\"14px\" font-family=\"Arial\">Z^0.958</text><rect x=\"245.0916796875\" y=\"155.0\" width=\"60.9075\" height=\"40\" stroke=\"black\" fill=\"white\" stroke-width=\"1\" /><text x=\"275.5454296875\" y=\"175.0\" dominant-baseline=\"middle\" text-anchor=\"middle\" font-size=\"14px\" font-family=\"Arial\">Z^0.501</text></svg>"
     },
     "execution_count": 13,
     "metadata": {},
     "output_type": "execute_result"
    }
   ],
   "source": [
    "def single_qubit_wall(qubits, rotations):\n",
    "  \"\"\"Prepare a single qubit X,Y,Z rotation wall on `qubits`.\"\"\"\n",
    "  wall_circuit = cirq.Circuit()\n",
    "  for i, qubit in enumerate(qubits):\n",
    "    for j, gate in enumerate([cirq.X, cirq.Y, cirq.Z]):\n",
    "      wall_circuit.append(gate(qubit) ** rotations[i][j])\n",
    "\n",
    "  return wall_circuit\n",
    "\n",
    "SVGCircuit(single_qubit_wall(\n",
    "    cirq.GridQubit.rect(1,4), np.random.uniform(size=(4, 3))))"
   ],
   "metadata": {
    "collapsed": false,
    "pycharm": {
     "name": "#%%\n"
    }
   }
  },
  {
   "cell_type": "code",
   "execution_count": 14,
   "outputs": [
    {
     "name": "stdout",
     "output_type": "stream",
     "text": [
      "Symbols found in circuit:[ref_0]\n"
     ]
    },
    {
     "data": {
      "text/plain": "<cirq.contrib.svg.svg.SVGCircuit at 0x7fb6240df340>",
      "image/svg+xml": "<svg xmlns=\"http://www.w3.org/2000/svg\" width=\"1092.0008203125\" height=\"100.0\"><line x1=\"32.246796875\" x2=\"1062.0008203125\" y1=\"25.0\" y2=\"25.0\" stroke=\"#1967d2\" stroke-width=\"1\" /><line x1=\"32.246796875\" x2=\"1062.0008203125\" y1=\"75.0\" y2=\"75.0\" stroke=\"#1967d2\" stroke-width=\"1\" /><line x1=\"154.49359375\" x2=\"154.49359375\" y1=\"25.0\" y2=\"75.0\" stroke=\"black\" stroke-width=\"3\" /><line x1=\"326.14230468750003\" x2=\"326.14230468750003\" y1=\"25.0\" y2=\"75.0\" stroke=\"black\" stroke-width=\"3\" /><line x1=\"530.091796875\" x2=\"530.091796875\" y1=\"25.0\" y2=\"75.0\" stroke=\"black\" stroke-width=\"3\" /><line x1=\"701.7405078125\" x2=\"701.7405078125\" y1=\"25.0\" y2=\"75.0\" stroke=\"black\" stroke-width=\"3\" /><line x1=\"850.352109375\" x2=\"850.352109375\" y1=\"25.0\" y2=\"75.0\" stroke=\"black\" stroke-width=\"3\" /><line x1=\"1022.0008203125001\" x2=\"1022.0008203125001\" y1=\"25.0\" y2=\"75.0\" stroke=\"black\" stroke-width=\"3\" /><rect x=\"10.0\" y=\"5.0\" width=\"44.49359375\" height=\"40\" stroke=\"black\" fill=\"white\" stroke-width=\"0\" /><text x=\"32.246796875\" y=\"25.0\" dominant-baseline=\"middle\" text-anchor=\"middle\" font-size=\"14px\" font-family=\"Arial\">(0, 0): </text><rect x=\"10.0\" y=\"55.0\" width=\"44.49359375\" height=\"40\" stroke=\"black\" fill=\"white\" stroke-width=\"0\" /><text x=\"32.246796875\" y=\"75.0\" dominant-baseline=\"middle\" text-anchor=\"middle\" font-size=\"14px\" font-family=\"Arial\">(0, 1): </text><rect x=\"74.49359375\" y=\"5.0\" width=\"40\" height=\"40\" stroke=\"black\" fill=\"white\" stroke-width=\"1\" /><text x=\"94.49359375\" y=\"25.0\" dominant-baseline=\"middle\" text-anchor=\"middle\" font-size=\"18px\" font-family=\"Arial\">H</text><rect x=\"74.49359375\" y=\"55.0\" width=\"40\" height=\"40\" stroke=\"black\" fill=\"white\" stroke-width=\"1\" /><text x=\"94.49359375\" y=\"75.0\" dominant-baseline=\"middle\" text-anchor=\"middle\" font-size=\"18px\" font-family=\"Arial\">H</text><circle cx=\"154.49359375\" cy=\"25.0\" r=\"10.0\" /><rect x=\"134.49359375\" y=\"55.0\" width=\"40\" height=\"40\" stroke=\"black\" fill=\"white\" stroke-width=\"1\" /><text x=\"154.49359375\" y=\"75.0\" dominant-baseline=\"middle\" text-anchor=\"middle\" font-size=\"18px\" font-family=\"Arial\">X</text><rect x=\"194.49359375\" y=\"55.0\" width=\"91.64871093750001\" height=\"40\" stroke=\"black\" fill=\"white\" stroke-width=\"1\" /><text x=\"240.31794921875002\" y=\"75.0\" dominant-baseline=\"middle\" text-anchor=\"middle\" font-size=\"14px\" font-family=\"Arial\">Rz(2.0*ref_0)</text><circle cx=\"326.14230468750003\" cy=\"25.0\" r=\"10.0\" /><rect x=\"306.14230468750003\" y=\"55.0\" width=\"40\" height=\"40\" stroke=\"black\" fill=\"white\" stroke-width=\"1\" /><text x=\"326.14230468750003\" y=\"75.0\" dominant-baseline=\"middle\" text-anchor=\"middle\" font-size=\"18px\" font-family=\"Arial\">X</text><rect x=\"366.14230468750003\" y=\"55.0\" width=\"40\" height=\"40\" stroke=\"black\" fill=\"white\" stroke-width=\"1\" /><text x=\"386.14230468750003\" y=\"75.0\" dominant-baseline=\"middle\" text-anchor=\"middle\" font-size=\"18px\" font-family=\"Arial\">H</text><rect x=\"366.14230468750003\" y=\"5.0\" width=\"40\" height=\"40\" stroke=\"black\" fill=\"white\" stroke-width=\"1\" /><text x=\"386.14230468750003\" y=\"25.0\" dominant-baseline=\"middle\" text-anchor=\"middle\" font-size=\"18px\" font-family=\"Arial\">H</text><rect x=\"426.14230468750003\" y=\"5.0\" width=\"63.9494921875\" height=\"40\" stroke=\"black\" fill=\"white\" stroke-width=\"1\" /><text x=\"458.11705078125004\" y=\"25.0\" dominant-baseline=\"middle\" text-anchor=\"middle\" font-size=\"14px\" font-family=\"Arial\">Rx(0.5π)</text><rect x=\"426.14230468750003\" y=\"55.0\" width=\"63.9494921875\" height=\"40\" stroke=\"black\" fill=\"white\" stroke-width=\"1\" /><text x=\"458.11705078125004\" y=\"75.0\" dominant-baseline=\"middle\" text-anchor=\"middle\" font-size=\"14px\" font-family=\"Arial\">Rx(0.5π)</text><circle cx=\"530.091796875\" cy=\"25.0\" r=\"10.0\" /><rect x=\"510.091796875\" y=\"55.0\" width=\"40\" height=\"40\" stroke=\"black\" fill=\"white\" stroke-width=\"1\" /><text x=\"530.091796875\" y=\"75.0\" dominant-baseline=\"middle\" text-anchor=\"middle\" font-size=\"18px\" font-family=\"Arial\">X</text><rect x=\"570.091796875\" y=\"55.0\" width=\"91.64871093750001\" height=\"40\" stroke=\"black\" fill=\"white\" stroke-width=\"1\" /><text x=\"615.91615234375\" y=\"75.0\" dominant-baseline=\"middle\" text-anchor=\"middle\" font-size=\"14px\" font-family=\"Arial\">Rz(2.0*ref_0)</text><circle cx=\"701.7405078125\" cy=\"25.0\" r=\"10.0\" /><rect x=\"681.7405078125\" y=\"55.0\" width=\"40\" height=\"40\" stroke=\"black\" fill=\"white\" stroke-width=\"1\" /><text x=\"701.7405078125\" y=\"75.0\" dominant-baseline=\"middle\" text-anchor=\"middle\" font-size=\"18px\" font-family=\"Arial\">X</text><rect x=\"741.7405078125\" y=\"55.0\" width=\"68.6116015625\" height=\"40\" stroke=\"black\" fill=\"white\" stroke-width=\"1\" /><text x=\"776.04630859375\" y=\"75.0\" dominant-baseline=\"middle\" text-anchor=\"middle\" font-size=\"14px\" font-family=\"Arial\">Rx(-0.5π)</text><rect x=\"741.7405078125\" y=\"5.0\" width=\"68.6116015625\" height=\"40\" stroke=\"black\" fill=\"white\" stroke-width=\"1\" /><text x=\"776.04630859375\" y=\"25.0\" dominant-baseline=\"middle\" text-anchor=\"middle\" font-size=\"14px\" font-family=\"Arial\">Rx(-0.5π)</text><circle cx=\"850.352109375\" cy=\"25.0\" r=\"10.0\" /><rect x=\"830.352109375\" y=\"55.0\" width=\"40\" height=\"40\" stroke=\"black\" fill=\"white\" stroke-width=\"1\" /><text x=\"850.352109375\" y=\"75.0\" dominant-baseline=\"middle\" text-anchor=\"middle\" font-size=\"18px\" font-family=\"Arial\">X</text><rect x=\"890.352109375\" y=\"55.0\" width=\"91.64871093750001\" height=\"40\" stroke=\"black\" fill=\"white\" stroke-width=\"1\" /><text x=\"936.1764648437501\" y=\"75.0\" dominant-baseline=\"middle\" text-anchor=\"middle\" font-size=\"14px\" font-family=\"Arial\">Rz(2.0*ref_0)</text><circle cx=\"1022.0008203125001\" cy=\"25.0\" r=\"10.0\" /><rect x=\"1002.0008203125001\" y=\"55.0\" width=\"40\" height=\"40\" stroke=\"black\" fill=\"white\" stroke-width=\"1\" /><text x=\"1022.0008203125001\" y=\"75.0\" dominant-baseline=\"middle\" text-anchor=\"middle\" font-size=\"18px\" font-family=\"Arial\">X</text></svg>"
     },
     "execution_count": 14,
     "metadata": {},
     "output_type": "execute_result"
    }
   ],
   "source": [
    "def v_theta(qubits):\n",
    "  \"\"\"Prepares a circuit that generates V(\\theta).\"\"\"\n",
    "  ref_paulis = [\n",
    "      cirq.X(q0) * cirq.X(q1) + \\\n",
    "      cirq.Y(q0) * cirq.Y(q1) + \\\n",
    "      cirq.Z(q0) * cirq.Z(q1) for q0, q1 in zip(qubits, qubits[1:])\n",
    "  ]\n",
    "  exp_symbols = list(sympy.symbols('ref_0:'+str(len(ref_paulis))))\n",
    "  return tfq.util.exponential(ref_paulis, exp_symbols), exp_symbols\n",
    "\n",
    "test_circuit, test_symbols = v_theta(cirq.GridQubit.rect(1, 2))\n",
    "print(f'Symbols found in circuit:{test_symbols}')\n",
    "SVGCircuit(test_circuit)\n"
   ],
   "metadata": {
    "collapsed": false,
    "pycharm": {
     "name": "#%%\n"
    }
   }
  },
  {
   "cell_type": "code",
   "execution_count": 15,
   "outputs": [
    {
     "name": "stdout",
     "output_type": "stream",
     "text": [
      "Symbols found in circuit:[ref_0]\n"
     ]
    },
    {
     "data": {
      "text/plain": "<cirq.contrib.svg.svg.SVGCircuit at 0x7fb62418e5b0>",
      "image/svg+xml": "<svg xmlns=\"http://www.w3.org/2000/svg\" width=\"1092.0008203125\" height=\"100.0\"><line x1=\"32.246796875\" x2=\"1062.0008203125\" y1=\"25.0\" y2=\"25.0\" stroke=\"#1967d2\" stroke-width=\"1\" /><line x1=\"32.246796875\" x2=\"1062.0008203125\" y1=\"75.0\" y2=\"75.0\" stroke=\"#1967d2\" stroke-width=\"1\" /><line x1=\"154.49359375\" x2=\"154.49359375\" y1=\"25.0\" y2=\"75.0\" stroke=\"black\" stroke-width=\"3\" /><line x1=\"326.14230468750003\" x2=\"326.14230468750003\" y1=\"25.0\" y2=\"75.0\" stroke=\"black\" stroke-width=\"3\" /><line x1=\"530.091796875\" x2=\"530.091796875\" y1=\"25.0\" y2=\"75.0\" stroke=\"black\" stroke-width=\"3\" /><line x1=\"701.7405078125\" x2=\"701.7405078125\" y1=\"25.0\" y2=\"75.0\" stroke=\"black\" stroke-width=\"3\" /><line x1=\"850.352109375\" x2=\"850.352109375\" y1=\"25.0\" y2=\"75.0\" stroke=\"black\" stroke-width=\"3\" /><line x1=\"1022.0008203125001\" x2=\"1022.0008203125001\" y1=\"25.0\" y2=\"75.0\" stroke=\"black\" stroke-width=\"3\" /><rect x=\"10.0\" y=\"5.0\" width=\"44.49359375\" height=\"40\" stroke=\"black\" fill=\"white\" stroke-width=\"0\" /><text x=\"32.246796875\" y=\"25.0\" dominant-baseline=\"middle\" text-anchor=\"middle\" font-size=\"14px\" font-family=\"Arial\">(0, 0): </text><rect x=\"10.0\" y=\"55.0\" width=\"44.49359375\" height=\"40\" stroke=\"black\" fill=\"white\" stroke-width=\"0\" /><text x=\"32.246796875\" y=\"75.0\" dominant-baseline=\"middle\" text-anchor=\"middle\" font-size=\"14px\" font-family=\"Arial\">(0, 1): </text><rect x=\"74.49359375\" y=\"5.0\" width=\"40\" height=\"40\" stroke=\"black\" fill=\"white\" stroke-width=\"1\" /><text x=\"94.49359375\" y=\"25.0\" dominant-baseline=\"middle\" text-anchor=\"middle\" font-size=\"18px\" font-family=\"Arial\">H</text><rect x=\"74.49359375\" y=\"55.0\" width=\"40\" height=\"40\" stroke=\"black\" fill=\"white\" stroke-width=\"1\" /><text x=\"94.49359375\" y=\"75.0\" dominant-baseline=\"middle\" text-anchor=\"middle\" font-size=\"18px\" font-family=\"Arial\">H</text><circle cx=\"154.49359375\" cy=\"25.0\" r=\"10.0\" /><rect x=\"134.49359375\" y=\"55.0\" width=\"40\" height=\"40\" stroke=\"black\" fill=\"white\" stroke-width=\"1\" /><text x=\"154.49359375\" y=\"75.0\" dominant-baseline=\"middle\" text-anchor=\"middle\" font-size=\"18px\" font-family=\"Arial\">X</text><rect x=\"194.49359375\" y=\"55.0\" width=\"91.64871093750001\" height=\"40\" stroke=\"black\" fill=\"white\" stroke-width=\"1\" /><text x=\"240.31794921875002\" y=\"75.0\" dominant-baseline=\"middle\" text-anchor=\"middle\" font-size=\"14px\" font-family=\"Arial\">Rz(2.0*ref_0)</text><circle cx=\"326.14230468750003\" cy=\"25.0\" r=\"10.0\" /><rect x=\"306.14230468750003\" y=\"55.0\" width=\"40\" height=\"40\" stroke=\"black\" fill=\"white\" stroke-width=\"1\" /><text x=\"326.14230468750003\" y=\"75.0\" dominant-baseline=\"middle\" text-anchor=\"middle\" font-size=\"18px\" font-family=\"Arial\">X</text><rect x=\"366.14230468750003\" y=\"55.0\" width=\"40\" height=\"40\" stroke=\"black\" fill=\"white\" stroke-width=\"1\" /><text x=\"386.14230468750003\" y=\"75.0\" dominant-baseline=\"middle\" text-anchor=\"middle\" font-size=\"18px\" font-family=\"Arial\">H</text><rect x=\"366.14230468750003\" y=\"5.0\" width=\"40\" height=\"40\" stroke=\"black\" fill=\"white\" stroke-width=\"1\" /><text x=\"386.14230468750003\" y=\"25.0\" dominant-baseline=\"middle\" text-anchor=\"middle\" font-size=\"18px\" font-family=\"Arial\">H</text><rect x=\"426.14230468750003\" y=\"5.0\" width=\"63.9494921875\" height=\"40\" stroke=\"black\" fill=\"white\" stroke-width=\"1\" /><text x=\"458.11705078125004\" y=\"25.0\" dominant-baseline=\"middle\" text-anchor=\"middle\" font-size=\"14px\" font-family=\"Arial\">Rx(0.5π)</text><rect x=\"426.14230468750003\" y=\"55.0\" width=\"63.9494921875\" height=\"40\" stroke=\"black\" fill=\"white\" stroke-width=\"1\" /><text x=\"458.11705078125004\" y=\"75.0\" dominant-baseline=\"middle\" text-anchor=\"middle\" font-size=\"14px\" font-family=\"Arial\">Rx(0.5π)</text><circle cx=\"530.091796875\" cy=\"25.0\" r=\"10.0\" /><rect x=\"510.091796875\" y=\"55.0\" width=\"40\" height=\"40\" stroke=\"black\" fill=\"white\" stroke-width=\"1\" /><text x=\"530.091796875\" y=\"75.0\" dominant-baseline=\"middle\" text-anchor=\"middle\" font-size=\"18px\" font-family=\"Arial\">X</text><rect x=\"570.091796875\" y=\"55.0\" width=\"91.64871093750001\" height=\"40\" stroke=\"black\" fill=\"white\" stroke-width=\"1\" /><text x=\"615.91615234375\" y=\"75.0\" dominant-baseline=\"middle\" text-anchor=\"middle\" font-size=\"14px\" font-family=\"Arial\">Rz(2.0*ref_0)</text><circle cx=\"701.7405078125\" cy=\"25.0\" r=\"10.0\" /><rect x=\"681.7405078125\" y=\"55.0\" width=\"40\" height=\"40\" stroke=\"black\" fill=\"white\" stroke-width=\"1\" /><text x=\"701.7405078125\" y=\"75.0\" dominant-baseline=\"middle\" text-anchor=\"middle\" font-size=\"18px\" font-family=\"Arial\">X</text><rect x=\"741.7405078125\" y=\"55.0\" width=\"68.6116015625\" height=\"40\" stroke=\"black\" fill=\"white\" stroke-width=\"1\" /><text x=\"776.04630859375\" y=\"75.0\" dominant-baseline=\"middle\" text-anchor=\"middle\" font-size=\"14px\" font-family=\"Arial\">Rx(-0.5π)</text><rect x=\"741.7405078125\" y=\"5.0\" width=\"68.6116015625\" height=\"40\" stroke=\"black\" fill=\"white\" stroke-width=\"1\" /><text x=\"776.04630859375\" y=\"25.0\" dominant-baseline=\"middle\" text-anchor=\"middle\" font-size=\"14px\" font-family=\"Arial\">Rx(-0.5π)</text><circle cx=\"850.352109375\" cy=\"25.0\" r=\"10.0\" /><rect x=\"830.352109375\" y=\"55.0\" width=\"40\" height=\"40\" stroke=\"black\" fill=\"white\" stroke-width=\"1\" /><text x=\"850.352109375\" y=\"75.0\" dominant-baseline=\"middle\" text-anchor=\"middle\" font-size=\"18px\" font-family=\"Arial\">X</text><rect x=\"890.352109375\" y=\"55.0\" width=\"91.64871093750001\" height=\"40\" stroke=\"black\" fill=\"white\" stroke-width=\"1\" /><text x=\"936.1764648437501\" y=\"75.0\" dominant-baseline=\"middle\" text-anchor=\"middle\" font-size=\"14px\" font-family=\"Arial\">Rz(2.0*ref_0)</text><circle cx=\"1022.0008203125001\" cy=\"25.0\" r=\"10.0\" /><rect x=\"1002.0008203125001\" y=\"55.0\" width=\"40\" height=\"40\" stroke=\"black\" fill=\"white\" stroke-width=\"1\" /><text x=\"1022.0008203125001\" y=\"75.0\" dominant-baseline=\"middle\" text-anchor=\"middle\" font-size=\"18px\" font-family=\"Arial\">X</text></svg>"
     },
     "execution_count": 15,
     "metadata": {},
     "output_type": "execute_result"
    }
   ],
   "source": [
    "def v_theta(qubits):\n",
    "  \"\"\"Prepares a circuit that generates V(\\theta).\"\"\"\n",
    "  ref_paulis = [\n",
    "      cirq.X(q0) * cirq.X(q1) + \\\n",
    "      cirq.Y(q0) * cirq.Y(q1) + \\\n",
    "      cirq.Z(q0) * cirq.Z(q1) for q0, q1 in zip(qubits, qubits[1:])\n",
    "  ]\n",
    "  exp_symbols = list(sympy.symbols('ref_0:'+str(len(ref_paulis))))\n",
    "  return tfq.util.exponential(ref_paulis, exp_symbols), exp_symbols\n",
    "\n",
    "test_circuit, test_symbols = v_theta(cirq.GridQubit.rect(1, 2))\n",
    "print(f'Symbols found in circuit:{test_symbols}')\n",
    "SVGCircuit(test_circuit)"
   ],
   "metadata": {
    "collapsed": false,
    "pycharm": {
     "name": "#%%\n"
    }
   }
  },
  {
   "cell_type": "code",
   "execution_count": 16,
   "outputs": [
    {
     "name": "stdout",
     "output_type": "stream",
     "text": [
      "New PQK training dataset has shape: (1000, 11, 3)\n",
      "New PQK testing dataset has shape: (200, 11, 3)\n"
     ]
    }
   ],
   "source": [
    "def prepare_pqk_circuits(qubits, classical_source, n_trotter=10):\n",
    "  \"\"\"Prepare the pqk feature circuits around a dataset.\"\"\"\n",
    "  n_qubits = len(qubits)\n",
    "  n_points = len(classical_source)\n",
    "\n",
    "  # Prepare random single qubit rotation wall.\n",
    "  random_rots = np.random.uniform(-2, 2, size=(n_qubits, 3))\n",
    "  initial_U = single_qubit_wall(qubits, random_rots)\n",
    "\n",
    "  # Prepare parametrized V\n",
    "  V_circuit, symbols = v_theta(qubits)\n",
    "  exp_circuit = cirq.Circuit(V_circuit for t in range(n_trotter))\n",
    "\n",
    "  # Convert to `tf.Tensor`\n",
    "  initial_U_tensor = tfq.convert_to_tensor([initial_U])\n",
    "  initial_U_splat = tf.tile(initial_U_tensor, [n_points])\n",
    "\n",
    "  full_circuits = tfq.layers.AddCircuit()(\n",
    "      initial_U_splat, append=exp_circuit)\n",
    "  # Replace placeholders in circuits with values from `classical_source`.\n",
    "  return tfq.resolve_parameters(\n",
    "      full_circuits, tf.convert_to_tensor([str(x) for x in symbols]),\n",
    "      tf.convert_to_tensor(classical_source*(n_qubits/3)/n_trotter))\n",
    "\n",
    "qubits = cirq.GridQubit.rect(1, DATASET_DIM + 1)\n",
    "q_x_train_circuits = prepare_pqk_circuits(qubits, x_train)\n",
    "q_x_test_circuits = prepare_pqk_circuits(qubits, x_test)\n",
    "\n",
    "def get_pqk_features(qubits, data_batch):\n",
    "  \"\"\"Get PQK features based on above construction.\"\"\"\n",
    "  ops = [[cirq.X(q), cirq.Y(q), cirq.Z(q)] for q in qubits]\n",
    "  ops_tensor = tf.expand_dims(tf.reshape(tfq.convert_to_tensor(ops), -1), 0)\n",
    "  batch_dim = tf.gather(tf.shape(data_batch), 0)\n",
    "  ops_splat = tf.tile(ops_tensor, [batch_dim, 1])\n",
    "  exp_vals = tfq.layers.Expectation()(data_batch, operators=ops_splat)\n",
    "  rdm = tf.reshape(exp_vals, [batch_dim, len(qubits), -1])\n",
    "  return rdm\n",
    "\n",
    "x_train_pqk = get_pqk_features(qubits, q_x_train_circuits)\n",
    "x_test_pqk = get_pqk_features(qubits, q_x_test_circuits)\n",
    "print('New PQK training dataset has shape:', x_train_pqk.shape)\n",
    "print('New PQK testing dataset has shape:', x_test_pqk.shape)"
   ],
   "metadata": {
    "collapsed": false,
    "pycharm": {
     "name": "#%%\n"
    }
   }
  },
  {
   "cell_type": "code",
   "execution_count": 17,
   "outputs": [
    {
     "name": "stdout",
     "output_type": "stream",
     "text": [
      "Eigenvectors of pqk kernel matrix: tf.Tensor(\n",
      "[[ 0.01717428 -0.04324833  0.01184165 ... -0.00401873  0.02299593\n",
      "  -0.0287683 ]\n",
      " [ 0.01924741 -0.02657823 -0.01638532 ... -0.0135068  -0.03280367\n",
      "  -0.03066265]\n",
      " [-0.00711343  0.01911326 -0.03363318 ... -0.02050909 -0.01803411\n",
      "  -0.03346212]\n",
      " ...\n",
      " [-0.0604893  -0.00763153 -0.01099809 ... -0.10575265  0.06482253\n",
      "  -0.03477421]\n",
      " [-0.06658153  0.03661023 -0.00116436 ... -0.18624476  0.43948793\n",
      "  -0.0352779 ]\n",
      " [-0.05538762  0.00191167  0.00148042 ... -0.          0.\n",
      "  -0.03332098]], shape=(1200, 1200), dtype=float32)\n",
      "Eigenvectors of original kernel matrix: tf.Tensor(\n",
      "[[ 0.03835681  0.02834728 -0.01169795 ... -0.03899286  0.00329909\n",
      "   0.03206972]\n",
      " [-0.04018165  0.00888094 -0.01388247 ...  0.00456356  0.01613913\n",
      "   0.0288196 ]\n",
      " [-0.01667187  0.0135037  -0.03663851 ... -0.01058048 -0.00294398\n",
      "   0.02195407]\n",
      " ...\n",
      " [-0.03015643 -0.01671633 -0.01603395 ... -0.0710168   0.10677747\n",
      "   0.02365685]\n",
      " [ 0.00397754 -0.04998878 -0.00528359 ...  0.10660887  0.744923\n",
      "   0.02782017]\n",
      " [-0.01665729 -0.00818617 -0.04323404 ... -0.00559646 -0.00439418\n",
      "   0.01875087]], shape=(1200, 1200), dtype=float32)\n"
     ]
    }
   ],
   "source": [
    "# 2.2 Re-labeling based on PQK features\n",
    "\n",
    "def compute_kernel_matrix(vecs, gamma):\n",
    "  \"\"\"Computes d[i][j] = e^ -gamma * (vecs[i] - vecs[j]) ** 2 \"\"\"\n",
    "  scaled_gamma = gamma / (\n",
    "      tf.cast(tf.gather(tf.shape(vecs), 1), tf.float32) * tf.math.reduce_std(vecs))\n",
    "  return scaled_gamma * tf.einsum('ijk->ij',(vecs[:,None,:] - vecs) ** 2)\n",
    "\n",
    "def get_spectrum(datapoints, gamma=1.0):\n",
    "  \"\"\"Compute the eigenvalues and eigenvectors of the kernel of datapoints.\"\"\"\n",
    "  KC_qs = compute_kernel_matrix(datapoints, gamma)\n",
    "  S, V = tf.linalg.eigh(KC_qs)\n",
    "  S = tf.math.abs(S)\n",
    "  return S, V\n",
    "\n",
    "S_pqk, V_pqk = get_spectrum(\n",
    "    tf.reshape(tf.concat([x_train_pqk, x_test_pqk], 0), [-1, len(qubits) * 3]))\n",
    "\n",
    "S_original, V_original = get_spectrum(\n",
    "    tf.cast(tf.concat([x_train, x_test], 0), tf.float32), gamma=0.005)\n",
    "\n",
    "print('Eigenvectors of pqk kernel matrix:', V_pqk)\n",
    "print('Eigenvectors of original kernel matrix:', V_original)\n",
    "\n",
    "def get_stilted_dataset(S, V, S_2, V_2, lambdav=1.1):\n",
    "  \"\"\"Prepare new labels that maximize geometric distance between kernels.\"\"\"\n",
    "  S_diag = tf.linalg.diag(S ** 0.5)\n",
    "  S_2_diag = tf.linalg.diag(S_2 / (S_2 + lambdav) ** 2)\n",
    "  scaling = S_diag @ tf.transpose(V) @ \\\n",
    "            V_2 @ S_2_diag @ tf.transpose(V_2) @ \\\n",
    "            V @ S_diag\n",
    "\n",
    "  # Generate new lables using the largest eigenvector.\n",
    "  _, vecs = tf.linalg.eig(scaling)\n",
    "  new_labels = tf.math.real(\n",
    "      tf.einsum('ij,j->i', tf.cast(V @ S_diag, tf.complex64), vecs[-1])).numpy()\n",
    "  # Create new labels and add some small amount of noise.\n",
    "  final_y = new_labels > np.median(new_labels)\n",
    "  noisy_y = (final_y ^ (np.random.uniform(size=final_y.shape) > 0.95))\n",
    "  return noisy_y\n",
    "\n",
    "y_relabel = get_stilted_dataset(S_pqk, V_pqk, S_original, V_original)\n",
    "y_train_new, y_test_new = y_relabel[:N_TRAIN], y_relabel[N_TRAIN:]"
   ],
   "metadata": {
    "collapsed": false,
    "pycharm": {
     "name": "#%%\n"
    }
   }
  },
  {
   "cell_type": "code",
   "execution_count": 18,
   "outputs": [
    {
     "name": "stdout",
     "output_type": "stream",
     "text": [
      "Model: \"sequential\"\n",
      "_________________________________________________________________\n",
      "Layer (type)                 Output Shape              Param #   \n",
      "=================================================================\n",
      "dense (Dense)                (None, 32)                1088      \n",
      "_________________________________________________________________\n",
      "dense_1 (Dense)              (None, 16)                528       \n",
      "_________________________________________________________________\n",
      "dense_2 (Dense)              (None, 1)                 17        \n",
      "=================================================================\n",
      "Total params: 1,633\n",
      "Trainable params: 1,633\n",
      "Non-trainable params: 0\n",
      "_________________________________________________________________\n"
     ]
    }
   ],
   "source": [
    "def create_pqk_model():\n",
    "    model = tf.keras.Sequential()\n",
    "    model.add(tf.keras.layers.Dense(32, activation='sigmoid', input_shape=[len(qubits) * 3,]))\n",
    "    model.add(tf.keras.layers.Dense(16, activation='sigmoid'))\n",
    "    model.add(tf.keras.layers.Dense(1))\n",
    "    return model\n",
    "\n",
    "pqk_model = create_pqk_model()\n",
    "pqk_model.compile(loss=tf.keras.losses.BinaryCrossentropy(from_logits=True),\n",
    "              optimizer=tf.keras.optimizers.Adam(learning_rate=0.003),\n",
    "              metrics=['accuracy'])\n",
    "\n",
    "pqk_model.summary()\n",
    "\n",
    "pqk_history = pqk_model.fit(tf.reshape(x_train_pqk, [N_TRAIN, -1]),\n",
    "          y_train_new,\n",
    "          batch_size=32,\n",
    "          epochs=1000,\n",
    "          verbose=0,\n",
    "          validation_data=(tf.reshape(x_test_pqk, [N_TEST, -1]), y_test_new))"
   ],
   "metadata": {
    "collapsed": false,
    "pycharm": {
     "name": "#%%\n"
    }
   }
  },
  {
   "cell_type": "code",
   "execution_count": 19,
   "outputs": [
    {
     "name": "stdout",
     "output_type": "stream",
     "text": [
      "Model: \"sequential_1\"\n",
      "_________________________________________________________________\n",
      "Layer (type)                 Output Shape              Param #   \n",
      "=================================================================\n",
      "dense_3 (Dense)              (None, 32)                352       \n",
      "_________________________________________________________________\n",
      "dense_4 (Dense)              (None, 16)                528       \n",
      "_________________________________________________________________\n",
      "dense_5 (Dense)              (None, 1)                 17        \n",
      "=================================================================\n",
      "Total params: 897\n",
      "Trainable params: 897\n",
      "Non-trainable params: 0\n",
      "_________________________________________________________________\n"
     ]
    }
   ],
   "source": [
    "# 3.2 Create a classical model\n",
    "\n",
    "def create_fair_classical_model():\n",
    "    model = tf.keras.Sequential()\n",
    "    model.add(tf.keras.layers.Dense(32, activation='sigmoid', input_shape=[DATASET_DIM,]))\n",
    "    model.add(tf.keras.layers.Dense(16, activation='sigmoid'))\n",
    "    model.add(tf.keras.layers.Dense(1))\n",
    "    return model\n",
    "\n",
    "model = create_fair_classical_model()\n",
    "model.compile(loss=tf.keras.losses.BinaryCrossentropy(from_logits=True),\n",
    "              optimizer=tf.keras.optimizers.Adam(learning_rate=0.03),\n",
    "              metrics=['accuracy'])\n",
    "\n",
    "model.summary()\n",
    "\n",
    "classical_history = model.fit(x_train,\n",
    "          y_train_new,\n",
    "          batch_size=32,\n",
    "          epochs=1000,\n",
    "          verbose=0,\n",
    "          validation_data=(x_test, y_test_new))"
   ],
   "metadata": {
    "collapsed": false,
    "pycharm": {
     "name": "#%%\n"
    }
   }
  },
  {
   "cell_type": "code",
   "execution_count": 20,
   "outputs": [
    {
     "data": {
      "text/plain": "<matplotlib.legend.Legend at 0x7fb5e46bf9a0>"
     },
     "execution_count": 20,
     "metadata": {},
     "output_type": "execute_result"
    },
    {
     "data": {
      "text/plain": "<Figure size 720x360 with 1 Axes>",
      "image/png": "[encoded data removed]"
     },
     "metadata": {
      "needs_background": "light"
     },
     "output_type": "display_data"
    }
   ],
   "source": [
    "# 3.3 Compare performance\n",
    "\n",
    "plt.figure(figsize=(10,5))\n",
    "plt.plot(classical_history.history['accuracy'], label='accuracy_classical')\n",
    "plt.plot(classical_history.history['val_accuracy'], label='val_accuracy_classical')\n",
    "plt.plot(pqk_history.history['accuracy'], label='accuracy_quantum')\n",
    "plt.plot(pqk_history.history['val_accuracy'], label='val_accuracy_quantum')\n",
    "plt.xlabel('Epoch')\n",
    "plt.ylabel('Accuracy')\n",
    "plt.legend()"
   ],
   "metadata": {
    "collapsed": false,
    "pycharm": {
     "name": "#%%\n"
    }
   }
  }
 ],
 "metadata": {
  "kernelspec": {
   "display_name": "Python 3",
   "language": "python",
   "name": "python3"
  },
  "language_info": {
   "codemirror_mode": {
    "name": "ipython",
    "version": 2
   },
   "file_extension": ".py",
   "mimetype": "text/x-python",
   "name": "python",
   "nbconvert_exporter": "python",
   "pygments_lexer": "ipython2",
   "version": "2.7.6"
  }
 },
 "nbformat": 4,
 "nbformat_minor": 0
}